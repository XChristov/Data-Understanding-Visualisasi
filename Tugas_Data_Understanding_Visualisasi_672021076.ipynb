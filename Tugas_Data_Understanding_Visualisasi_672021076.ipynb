{
  "cells": [
    {
      "cell_type": "markdown",
      "metadata": {
        "id": "Copm7pUZM1bX"
      },
      "source": [
        "#LineGraph"
      ]
    },
    {
      "cell_type": "code",
      "execution_count": null,
      "metadata": {
        "id": "IdNYVs8iIRS4"
      },
      "outputs": [],
      "source": [
        "import matplotlib.pyplot as plt\n",
        "\n",
        "prices = [14292.2, 12858.9, 11467.5, 9241.1, 8559.6, 11073.5, 9704.3, 11402.3, 8762.0,\n",
        "          7874.9, 8547.4, 6938.2, 6905.7, 8004.4, 8923.1, 9352.4, 9853.5, 8459.5, 8245.1, 7361.3, 7646.6, 7515.8, 6505.8, 6167.3, 6398.9, 6765.5,\n",
        "          6254.8, 7408.7, 8234.1, 7014.3, 6231.6, 6379.1, 6734.8, 7189.6, 6184.3, 6519.0, 6729.6, 6603.9, 6596.3, 6321.7, 6572.2, 6494.2, 6386.2, 6427.1, 5621.8, 3920.4, 4196.2, 3430.4, 3228.7,\n",
        "          3964.4, 3706.8, 3785.4, 3597.2, 3677.8, 3570.9, 3502.5, 3661.4, 3616.8, 4120.4, 3823.1, 3944.3, 4006.4, 4002.5, 4111.8, 5046.2, 5051.8, 5290.2, 5265.9, 5830.9, 7190.3, 7262.6, 8027.4, 8545.7,\n",
        "          7901.4, 8812.5, 10721.7, 11906.5, 11268.0, 11364.9, 10826.7, 9492.1, 10815.7, 11314.5, 10218.1, 10131.0, 9594.4, 10461.1, 10337.3,\n",
        "          9993.0, 8208.5, 8127.3, 8304.4, 7957.3, 9230.6, 9300.6, 8804.5, 8497.3, 7324.1, 7546.6, 7510.9, 7080.8, 7156.2, 7321.5, 7376.8]\n",
        "\n",
        "plt.figure(figsize=(12, 6))\n",
        "\n",
        "plt.plot(prices, color='blue', label='Harga Bitcoin', linewidth=2)\n",
        "plt.plot(prices, 'o', color='red', markersize=3, label='Titik Data')\n",
        "\n",
        "plt.title('Harga Bitcoin')\n",
        "plt.xlabel('Minggu')\n",
        "plt.ylabel('Harga')\n",
        "plt.legend()\n",
        "plt.grid(True)\n",
        "plt.show()\n"
      ]
    },
    {
      "cell_type": "markdown",
      "metadata": {
        "id": "59Ivvr0UNIQL"
      },
      "source": [
        "#Pie Chart"
      ]
    },
    {
      "cell_type": "code",
      "execution_count": null,
      "metadata": {
        "id": "oIUymVphNOyE"
      },
      "outputs": [],
      "source": [
        "import matplotlib.pyplot as plt\n",
        "\n",
        "\n",
        "nama_permen = ['Mentos', 'Kopiko', 'Golia', 'Yupie', 'Fisherman']\n",
        "jumlah_permen = [52, 39, 78, 13, 78]\n",
        "\n",
        "peluang_kopiko = jumlah_permen[nama_permen.index('Kopiko')] / sum(jumlah_permen) * 100\n",
        "\n",
        "plt.figure(figsize=(8, 8))\n",
        "plt.pie(jumlah_permen, labels=nama_permen, autopct='%1.1f%%', startangle=140)\n",
        "plt.title('Persentase Peluang Memilih Permen Kopiko')\n",
        "plt.show()\n",
        "\n",
        "print(\"Peluang memilih permen Kopiko:\", round(peluang_kopiko, 2), \"%\")\n"
      ]
    },
    {
      "cell_type": "markdown",
      "metadata": {
        "id": "iUI4WigJNy3W"
      },
      "source": [
        "#Bar Chart\n"
      ]
    },
    {
      "cell_type": "code",
      "execution_count": null,
      "metadata": {
        "id": "xKheb88QN8dS"
      },
      "outputs": [],
      "source": [
        "import matplotlib.pyplot as plt\n",
        "\n",
        "# Dataset penjualan makanan penutup baru\n",
        "datapenjualan_makananpenutup = {\n",
        "    'Donat': 14,\n",
        "    'Pastel': 5,\n",
        "    'Kue Coklat': 12,\n",
        "    'Ice Cream': 19,\n",
        "    'Puding Vanila': 6,\n",
        "    'Brownies': 8,\n",
        "    'Puding Strawberi': 12,\n",
        "    'Puding Coklat': 9,\n",
        "    'Ice Cream Nutela': 10,\n",
        "    'Kue Coklat-Keju': 17,\n",
        "    'Kue Wajik': 2,\n",
        "    'Kue Sus': 9,\n",
        "    'Mochi': 13,\n",
        "}\n",
        "\n",
        "makanan_penutup = list(datapenjualan_makananpenutup.keys())\n",
        "jumlah_penjualan = list(datapenjualan_makananpenutup.values())\n",
        "\n",
        "plt.figure(figsize=(12, 8))\n",
        "plt.barh(makanan_penutup, jumlah_penjualan, color='lightgreen')\n",
        "plt.xlabel('Jumlah Penjualan')\n",
        "plt.ylabel('Makanan Penutup')\n",
        "plt.title('Popularitas Relatif Makanan Penutup Baru')\n",
        "plt.gca().invert_yaxis()  # Mengurutkan dari makanan penutup paling populer\n",
        "plt.show()\n"
      ]
    },
    {
      "cell_type": "code",
      "execution_count": null,
      "metadata": {
        "id": "nw0-oi0MOO-l"
      },
      "outputs": [],
      "source": [
        "data = list(zip(makanan_penutup, jumlah_penjualan))\n",
        "\n",
        "data_sorted = sorted(data, key=lambda x: x[1])\n",
        "\n",
        "makanan_terendah = [item[0] for item in data_sorted[:3]]\n",
        "print(\"Tiga makanan penutup dengan jumlah penjualan terendah:\", makanan_terendah)\n",
        "\n"
      ]
    },
    {
      "cell_type": "markdown",
      "metadata": {
        "id": "T_pvAUDqPSFv"
      },
      "source": [
        "#Headmap"
      ]
    },
    {
      "cell_type": "code",
      "execution_count": null,
      "metadata": {
        "id": "C4z9HbmqPYk9"
      },
      "outputs": [],
      "source": [
        "import seaborn as sns\n",
        "\n",
        "datapenggunaan_cpu = [\n",
        "    [2, 2, 4, 2, 4, 1, 1, 4, 4, 12, 22, 23, 45, 9, 33, 56, 23, 40, 21, 6, 6, 2, 2, 3],  # Senin\n",
        "    [1, 2, 3, 2, 3, 2, 3, 2, 7, 22, 45, 44, 33, 9, 23, 19, 33, 56, 12, 2, 3, 1, 2, 2],  # Selasa\n",
        "    [2, 3, 1, 2, 4, 4, 2, 2, 1, 2, 5, 31, 54, 7, 6, 34, 68, 34, 49, 6, 6, 2, 2, 3],      # Rabu\n",
        "    [1, 2, 3, 2, 4, 1, 2, 4, 1, 17, 24, 18, 41, 3, 44, 42, 12, 36, 41, 2, 2, 4, 2, 4],   # Kamis\n",
        "    [4, 1, 2, 2, 3, 2, 5, 1, 2, 12, 33, 27, 43, 8, 38, 53, 29, 45, 39, 3, 1, 1, 3, 4],   # Jumat\n",
        "    [2, 3, 1, 2, 2, 5, 2, 8, 4, 2, 3, 1, 5, 1, 2, 3, 2, 6, 1, 2, 2, 1, 4, 3],           # Sabtu\n",
        "    [1, 2, 3, 1, 1, 3, 4, 2, 3, 1, 2, 2, 5, 3, 2, 1, 4, 2, 45, 26, 33, 2, 2, 1],       # Minggu\n",
        "]\n",
        "\n",
        "plt.figure(figsize=(12, 8))\n",
        "sns.heatmap(datapenggunaan_cpu, cmap='YlGnBu', annot=True, fmt='d', cbar_kws={'label': 'Penggunaan CPU'})\n",
        "plt.title('Penggunaan CPU Per Jam Selama Seminggu')\n",
        "plt.xlabel('Jam (0 = Tengah Malam)')\n",
        "plt.ylabel('Hari')\n",
        "plt.yticks(ticks=range(7), labels=['Senin', 'Selasa', 'Rabu', 'Kamis', 'Jumat', 'Sabtu', 'Minggu'], rotation=0)\n",
        "plt.show()\n"
      ]
    },
    {
      "cell_type": "markdown",
      "metadata": {
        "id": "J1Ujkc7IU58x"
      },
      "source": [
        "#Scatterplot\n"
      ]
    },
    {
      "cell_type": "code",
      "execution_count": null,
      "metadata": {
        "id": "FhpXR5h3U-kt"
      },
      "outputs": [],
      "source": [
        "import seaborn as sns\n",
        "import matplotlib.pyplot as plt\n",
        "import pandas as pd\n",
        "\n",
        "\n",
        "x = [4.61, 5.08, 5.18, 7.82, 10.46, 7.66, 7.6, 9.32, 14.04, 9.95, 4.95,\n",
        "     7.23, 5.21, 8.64, 10.08, 8.32, 12.83, 7.51, 7.82, 6.29, 0.04, 6.62, 13.16,\n",
        "     6.34, 0.09, 10.04, 13.06, 9.54, 11.32, 7.12, -0.67, 10.5, 8.37, 7.24, 9.18,\n",
        "     10.12, 12.29, 8.53, 11.11, 9.65, 9.42, 8.61, -0.67, 5.94, 6.49, 7.57, 3.11,\n",
        "     8.7, 5.28, 8.28, 9.55, 8.33, 13.7, 6.65, 2.4, 3.54, 9.19, 7.51, -0.68, 8.47,\n",
        "     14.82, 5.31, 14.01, 8.75, -0.57, 5.35, 10.51, 3.11, -0.26, 5.74, 8.33, 6.5,\n",
        "     13.85, 9.78, 4.91, 4.19, 14.8, 10.04, 13.47, 3.28]\n",
        "y = [-2.36, -3.41, 13.01, -2.91, -2.28, 12.83, 13.13, 11.94, 0.93, -2.76,\n",
        "     13.31, -3.57, -2.33, 12.43, -1.83, 12.32, -0.42, -3.08, -2.98, 12.46, 8.34,\n",
        "     -3.19, -0.47, 12.78, 2.12, -2.72, 10.64, 11.98, 12.21, 12.52, 5.53, 11.72,\n",
        "     12.91, 12.56, -2.49, 12.08, -1.09, -2.89, -1.78, -2.47, 12.77, 12.41, 5.33,\n",
        "     -3.23, 13.45, -3.41, 12.46, 12.1, -2.56, 12.51, -2.37, 12.76, 9.69, 12.59,\n",
        "     -1.12, -2.8, 12.94, -3.55, 7.33, 12.59, 2.92, 12.7, 0.5, 12.57, 6.39, 12.84,\n",
        "     -1.95, 11.76, 6.82, 12.44, 13.28, -3.46, 0.7, -2.55, -2.37, 12.48, 7.26, -2.45,\n",
        "     0.31, -2.51]\n",
        "\n",
        "\n",
        "data = {'x': x, 'y': y}\n",
        "df = pd.DataFrame(data)\n",
        "\n",
        "\n",
        "center_x = df['x'].mean()\n",
        "center_y = df['y'].mean()\n",
        "\n",
        "\n",
        "plt.figure(figsize=(10, 6))\n",
        "sns.scatterplot(data=df, x='x', y='y')\n",
        "plt.scatter(center_x, center_y, color='red', marker='x', s=200, label='Pusat Pertumbuhan')\n",
        "plt.title('Sebaran Koordinat Jamur dengan Pusat Pertumbuhan')\n",
        "plt.xlabel('Koordinat X')\n",
        "plt.ylabel('Koordinat Y')\n",
        "plt.legend()\n",
        "plt.grid(True)\n",
        "plt.show()\n"
      ]
    }
  ],
  "metadata": {
    "colab": {
      "collapsed_sections": [
        "Copm7pUZM1bX",
        "59Ivvr0UNIQL"
      ],
      "private_outputs": true,
      "provenance": []
    },
    "kernelspec": {
      "display_name": "Python 3",
      "name": "python3"
    },
    "language_info": {
      "name": "python"
    }
  },
  "nbformat": 4,
  "nbformat_minor": 0
}
